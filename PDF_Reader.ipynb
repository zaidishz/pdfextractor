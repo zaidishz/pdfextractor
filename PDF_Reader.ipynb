{
 "cells": [
  {
   "cell_type": "markdown",
   "metadata": {},
   "source": [
    "# Extracting text from PDF files"
   ]
  },
  {
   "cell_type": "code",
   "execution_count": 79,
   "metadata": {},
   "outputs": [],
   "source": [
    "# %pip install PyPDF2 \n",
    "# %pip install pdfminer.six\n",
    "# %pip install pdfplumber\n",
    "# %pip install pdf2image\n",
    "# %pip install Pillow\n",
    "# %pip install tesseract \n",
    "# %pip install pytesseract"
   ]
  },
  {
   "cell_type": "code",
   "execution_count": 80,
   "metadata": {},
   "outputs": [],
   "source": [
    "# To read the PDF\n",
    "import PyPDF2\n",
    "# To analyze the PDF layout and extract text\n",
    "from pdfminer.high_level import extract_pages, extract_text\n",
    "from pdfminer.layout import LTTextContainer, LTChar, LTRect, LTFigure\n",
    "# To extract text from tables in PDF\n",
    "import pdfplumber\n",
    "# To extract the images from the PDFs\n",
    "from PIL import Image\n",
    "from pdf2image import convert_from_path\n",
    "# To perform OCR to extract text from images \n",
    "import pytesseract \n",
    "# To remove the additional created files\n",
    "import os"
   ]
  },
  {
   "cell_type": "code",
   "execution_count": 81,
   "metadata": {},
   "outputs": [],
   "source": [
    "# Create function to extract text\n",
    "\n",
    "def text_extraction(element):\n",
    "    # Extracting the text from the in line text element\n",
    "    line_text = element.get_text()\n",
    "    \n",
    "    # Find the formats of the text\n",
    "    # Initialize the list with all the formats appeared in the line of text\n",
    "    line_formats = []\n",
    "    for text_line in element:\n",
    "        if isinstance(text_line, LTTextContainer):\n",
    "            # Iterating through each character in the line of text\n",
    "            for character in text_line:\n",
    "                if isinstance(character, LTChar):\n",
    "                    # Append the font name of the character\n",
    "                    line_formats.append(character.fontname)\n",
    "                    # Append the font size of the character\n",
    "                    line_formats.append(character.size)\n",
    "    # Find the unique font sizes and names in the line\n",
    "    format_per_line = list(set(line_formats))\n",
    "    \n",
    "    # Return a tuple with the text in each line along with its format\n",
    "    return (line_text, format_per_line)"
   ]
  },
  {
   "cell_type": "code",
   "execution_count": 82,
   "metadata": {},
   "outputs": [],
   "source": [
    "# Extracting tables from the page\n",
    "\n",
    "def extract_table(pdf_path, page_num, table_num):\n",
    "    # Open the pdf file\n",
    "    pdf = pdfplumber.open(pdf_path)\n",
    "    # Find the examined page\n",
    "    table_page = pdf.pages[page_num]\n",
    "    # Extract the appropriate table\n",
    "    table = table_page.extract_tables()[table_num]\n",
    "    \n",
    "    return table\n",
    "\n",
    "# Convert table into appropriate format\n",
    "def table_converter(table):\n",
    "    table_string = ''\n",
    "    # Iterate through each row of the table\n",
    "    for row_num in range(len(table)):\n",
    "        row = table[row_num]\n",
    "        # Remove the line breaker from the wrapped texts\n",
    "        cleaned_row = [item.replace('\\n', ' ') if item is not None and '\\n' in item else 'None' if item is None else item for item in row]\n",
    "        # Convert the table into a string \n",
    "        table_string+=('|'+'|'.join(cleaned_row)+'|'+'\\n')\n",
    "    # Removing the last line break\n",
    "    table_string = table_string[:-1]\n",
    "    return table_string\n",
    "\n",
    "# Create a function to check if the element is in any tables present in the page\n",
    "def is_element_inside_any_table(element, page ,tables):\n",
    "    x0, y0up, x1, y1up = element.bbox\n",
    "    # Change the cordinates because the pdfminer counts from the botton to top of the page\n",
    "    y0 = page.bbox[3] - y1up\n",
    "    y1 = page.bbox[3] - y0up\n",
    "    for table in tables:\n",
    "        tx0, ty0, tx1, ty1 = table.bbox\n",
    "        if tx0 <= x0 <= x1 <= tx1 and ty0 <= y0 <= y1 <= ty1:\n",
    "            return True\n",
    "    return False\n",
    "\n",
    "# Function to find the table for a given element\n",
    "def find_table_for_element(element, page ,tables):\n",
    "    x0, y0up, x1, y1up = element.bbox\n",
    "    # Change the cordinates because the pdfminer counts from the botton to top of the page\n",
    "    y0 = page.bbox[3] - y1up\n",
    "    y1 = page.bbox[3] - y0up\n",
    "    for i, table in enumerate(tables):\n",
    "        tx0, ty0, tx1, ty1 = table.bbox\n",
    "        if tx0 <= x0 <= x1 <= tx1 and ty0 <= y0 <= y1 <= ty1:\n",
    "            return i  # Return the index of the table\n",
    "    return None  "
   ]
  },
  {
   "cell_type": "code",
   "execution_count": 83,
   "metadata": {},
   "outputs": [],
   "source": [
    "# Create a function to crop the image elements from PDFs\n",
    "def crop_image(element, pageObj):\n",
    "    # Get the coordinates to crop the image from PDF\n",
    "    [image_left, image_top, image_right, image_bottom] = [element.x0,element.y0,element.x1,element.y1] \n",
    "    # Crop the page using coordinates (left, bottom, right, top)\n",
    "    pageObj.mediabox.lower_left = (image_left, image_bottom)\n",
    "    pageObj.mediabox.upper_right = (image_right, image_top)\n",
    "    # Save the cropped page to a new PDF\n",
    "    cropped_pdf_writer = PyPDF2.PdfWriter()\n",
    "    cropped_pdf_writer.add_page(pageObj)\n",
    "    # Save the cropped PDF to a new file\n",
    "    with open('cropped_image.pdf', 'wb') as cropped_pdf_file:\n",
    "        cropped_pdf_writer.write(cropped_pdf_file)\n",
    "\n",
    "# Create a function to convert the PDF to images\n",
    "def convert_to_images(input_file,poppler_path=r'/usr/local/bin/poppler-23.11.0'):\n",
    "    images = convert_from_path(input_file, )\n",
    "    image = images[0]\n",
    "    output_file = 'PDF_image.png'\n",
    "    image.save(output_file, 'PNG')\n",
    "\n",
    "# Create a function to read text from images\n",
    "def image_to_text(image_path):\n",
    "    # Read the image\n",
    "    img = Image.open(image_path)\n",
    "    # Extract the text from the image\n",
    "    text = pytesseract.image_to_string(img)\n",
    "    return text"
   ]
  },
  {
   "cell_type": "code",
   "execution_count": 84,
   "metadata": {},
   "outputs": [],
   "source": [
    "# Find the PDF path\n",
    "pdf_path = '/Users/macbook/Desktop/Job/OVGU/Data/F02.pdf'\n",
    "\n",
    "# Create a pdf file object\n",
    "pdfFileObj = open(pdf_path, 'rb')\n",
    "# Create a pdf reader object\n",
    "pdfReaded = PyPDF2.PdfReader(pdfFileObj)"
   ]
  },
  {
   "cell_type": "code",
   "execution_count": 92,
   "metadata": {},
   "outputs": [
    {
     "ename": "ValueError",
     "evalue": "I/O operation on closed file",
     "output_type": "error",
     "traceback": [
      "\u001b[0;31m---------------------------------------------------------------------------\u001b[0m",
      "\u001b[0;31mValueError\u001b[0m                                Traceback (most recent call last)",
      "\u001b[1;32m/Users/macbook/Desktop/Job/OVGU/Data/pdfextractor/PDF_Reader.ipynb Cell 8\u001b[0m line \u001b[0;36m7\n\u001b[1;32m     <a href='vscode-notebook-cell:/Users/macbook/Desktop/Job/OVGU/Data/pdfextractor/PDF_Reader.ipynb#X10sZmlsZQ%3D%3D?line=71'>72</a>\u001b[0m \u001b[39m# Check the elements for images\u001b[39;00m\n\u001b[1;32m     <a href='vscode-notebook-cell:/Users/macbook/Desktop/Job/OVGU/Data/pdfextractor/PDF_Reader.ipynb#X10sZmlsZQ%3D%3D?line=72'>73</a>\u001b[0m \u001b[39mif\u001b[39;00m \u001b[39misinstance\u001b[39m(element, LTFigure):\n\u001b[1;32m     <a href='vscode-notebook-cell:/Users/macbook/Desktop/Job/OVGU/Data/pdfextractor/PDF_Reader.ipynb#X10sZmlsZQ%3D%3D?line=73'>74</a>\u001b[0m     \u001b[39m# Crop the image from PDF\u001b[39;00m\n\u001b[0;32m---> <a href='vscode-notebook-cell:/Users/macbook/Desktop/Job/OVGU/Data/pdfextractor/PDF_Reader.ipynb#X10sZmlsZQ%3D%3D?line=74'>75</a>\u001b[0m     crop_image(element, pageObj)\n\u001b[1;32m     <a href='vscode-notebook-cell:/Users/macbook/Desktop/Job/OVGU/Data/pdfextractor/PDF_Reader.ipynb#X10sZmlsZQ%3D%3D?line=75'>76</a>\u001b[0m     \u001b[39m# Convert the croped pdf to image\u001b[39;00m\n\u001b[1;32m     <a href='vscode-notebook-cell:/Users/macbook/Desktop/Job/OVGU/Data/pdfextractor/PDF_Reader.ipynb#X10sZmlsZQ%3D%3D?line=76'>77</a>\u001b[0m     convert_to_images(\u001b[39m'\u001b[39m\u001b[39mcropped_image.pdf\u001b[39m\u001b[39m'\u001b[39m)\n",
      "\u001b[1;32m/Users/macbook/Desktop/Job/OVGU/Data/pdfextractor/PDF_Reader.ipynb Cell 8\u001b[0m line \u001b[0;36m1\n\u001b[1;32m      <a href='vscode-notebook-cell:/Users/macbook/Desktop/Job/OVGU/Data/pdfextractor/PDF_Reader.ipynb#X10sZmlsZQ%3D%3D?line=7'>8</a>\u001b[0m \u001b[39m# Save the cropped page to a new PDF\u001b[39;00m\n\u001b[1;32m      <a href='vscode-notebook-cell:/Users/macbook/Desktop/Job/OVGU/Data/pdfextractor/PDF_Reader.ipynb#X10sZmlsZQ%3D%3D?line=8'>9</a>\u001b[0m cropped_pdf_writer \u001b[39m=\u001b[39m PyPDF2\u001b[39m.\u001b[39mPdfWriter()\n\u001b[0;32m---> <a href='vscode-notebook-cell:/Users/macbook/Desktop/Job/OVGU/Data/pdfextractor/PDF_Reader.ipynb#X10sZmlsZQ%3D%3D?line=9'>10</a>\u001b[0m cropped_pdf_writer\u001b[39m.\u001b[39;49madd_page(pageObj)\n\u001b[1;32m     <a href='vscode-notebook-cell:/Users/macbook/Desktop/Job/OVGU/Data/pdfextractor/PDF_Reader.ipynb#X10sZmlsZQ%3D%3D?line=10'>11</a>\u001b[0m \u001b[39m# Save the cropped PDF to a new file\u001b[39;00m\n\u001b[1;32m     <a href='vscode-notebook-cell:/Users/macbook/Desktop/Job/OVGU/Data/pdfextractor/PDF_Reader.ipynb#X10sZmlsZQ%3D%3D?line=11'>12</a>\u001b[0m \u001b[39mwith\u001b[39;00m \u001b[39mopen\u001b[39m(\u001b[39m'\u001b[39m\u001b[39mcropped_image.pdf\u001b[39m\u001b[39m'\u001b[39m, \u001b[39m'\u001b[39m\u001b[39mwb\u001b[39m\u001b[39m'\u001b[39m) \u001b[39mas\u001b[39;00m cropped_pdf_file:\n",
      "File \u001b[0;32m~/Desktop/Job/OVGU/Data/pdfextractor/.venv/lib/python3.12/site-packages/PyPDF2/_writer.py:321\u001b[0m, in \u001b[0;36mPdfWriter.add_page\u001b[0;34m(self, page, excluded_keys)\u001b[0m\n\u001b[1;32m    306\u001b[0m \u001b[39mdef\u001b[39;00m \u001b[39madd_page\u001b[39m(\n\u001b[1;32m    307\u001b[0m     \u001b[39mself\u001b[39m,\n\u001b[1;32m    308\u001b[0m     page: PageObject,\n\u001b[1;32m    309\u001b[0m     excluded_keys: Iterable[\u001b[39mstr\u001b[39m] \u001b[39m=\u001b[39m (),\n\u001b[1;32m    310\u001b[0m ) \u001b[39m-\u001b[39m\u001b[39m>\u001b[39m PageObject:\n\u001b[1;32m    311\u001b[0m \u001b[39m    \u001b[39m\u001b[39m\"\"\"\u001b[39;00m\n\u001b[1;32m    312\u001b[0m \u001b[39m    Add a page to this PDF file.\u001b[39;00m\n\u001b[1;32m    313\u001b[0m \u001b[39m    Recommended for advanced usage including the adequate excluded_keys\u001b[39;00m\n\u001b[0;32m   (...)\u001b[0m\n\u001b[1;32m    319\u001b[0m \u001b[39m        an instance of :class:`PageObject<PyPDF2._page.PageObject>`\u001b[39;00m\n\u001b[1;32m    320\u001b[0m \u001b[39m    \"\"\"\u001b[39;00m\n\u001b[0;32m--> 321\u001b[0m     \u001b[39mreturn\u001b[39;00m \u001b[39mself\u001b[39;49m\u001b[39m.\u001b[39;49m_add_page(page, \u001b[39mlist\u001b[39;49m\u001b[39m.\u001b[39;49mappend, excluded_keys)\n",
      "File \u001b[0;32m~/Desktop/Job/OVGU/Data/pdfextractor/.venv/lib/python3.12/site-packages/PyPDF2/_writer.py:274\u001b[0m, in \u001b[0;36mPdfWriter._add_page\u001b[0;34m(self, page, action, excluded_keys)\u001b[0m\n\u001b[1;32m    272\u001b[0m \u001b[39m# page_ind = self._add_object(page)\u001b[39;00m\n\u001b[1;32m    273\u001b[0m \u001b[39mif\u001b[39;00m page_org\u001b[39m.\u001b[39mpdf \u001b[39mis\u001b[39;00m \u001b[39mnot\u001b[39;00m \u001b[39mNone\u001b[39;00m:\n\u001b[0;32m--> 274\u001b[0m     other \u001b[39m=\u001b[39m page_org\u001b[39m.\u001b[39;49mpdf\u001b[39m.\u001b[39;49mpdf_header\n\u001b[1;32m    275\u001b[0m     \u001b[39mif\u001b[39;00m \u001b[39misinstance\u001b[39m(other, \u001b[39mstr\u001b[39m):\n\u001b[1;32m    276\u001b[0m         other \u001b[39m=\u001b[39m other\u001b[39m.\u001b[39mencode()  \u001b[39m# type: ignore\u001b[39;00m\n",
      "File \u001b[0;32m~/Desktop/Job/OVGU/Data/pdfextractor/.venv/lib/python3.12/site-packages/PyPDF2/_reader.py:353\u001b[0m, in \u001b[0;36mPdfReader.pdf_header\u001b[0;34m(self)\u001b[0m\n\u001b[1;32m    349\u001b[0m \u001b[39m@property\u001b[39m\n\u001b[1;32m    350\u001b[0m \u001b[39mdef\u001b[39;00m \u001b[39mpdf_header\u001b[39m(\u001b[39mself\u001b[39m) \u001b[39m-\u001b[39m\u001b[39m>\u001b[39m \u001b[39mstr\u001b[39m:\n\u001b[1;32m    351\u001b[0m     \u001b[39m# TODO: Make this return a bytes object for consistency\u001b[39;00m\n\u001b[1;32m    352\u001b[0m     \u001b[39m#       but that needs a deprecation\u001b[39;00m\n\u001b[0;32m--> 353\u001b[0m     loc \u001b[39m=\u001b[39m \u001b[39mself\u001b[39;49m\u001b[39m.\u001b[39;49mstream\u001b[39m.\u001b[39;49mtell()\n\u001b[1;32m    354\u001b[0m     \u001b[39mself\u001b[39m\u001b[39m.\u001b[39mstream\u001b[39m.\u001b[39mseek(\u001b[39m0\u001b[39m, \u001b[39m0\u001b[39m)\n\u001b[1;32m    355\u001b[0m     pdf_file_version \u001b[39m=\u001b[39m \u001b[39mself\u001b[39m\u001b[39m.\u001b[39mstream\u001b[39m.\u001b[39mread(\u001b[39m8\u001b[39m)\u001b[39m.\u001b[39mdecode(\u001b[39m\"\u001b[39m\u001b[39mutf-8\u001b[39m\u001b[39m\"\u001b[39m)\n",
      "\u001b[0;31mValueError\u001b[0m: I/O operation on closed file"
     ]
    }
   ],
   "source": [
    "# Create the dictionary to extract text from each image\n",
    "text_per_page = {}\n",
    "# Create a boolean variable for image detection\n",
    "image_flag = False\n",
    "# We extract the pages from the PDF\n",
    "for pagenum, page in enumerate(extract_pages(pdf_path)):\n",
    "    try: # Initialize the variables needed for the text extraction from the page\n",
    "        pageObj = pdfReaded.pages[pagenum]\n",
    "        page_text = []\n",
    "        line_format = []\n",
    "        text_from_images = []\n",
    "        text_from_tables = []\n",
    "        page_content = []\n",
    "        # Initialize the number of the examined tables\n",
    "        table_in_page= -1\n",
    "        # Open the pdf file\n",
    "        pdf = pdfplumber.open(pdf_path)\n",
    "        # Find the examined page\n",
    "        page_tables = pdf.pages[pagenum]\n",
    "        # Find the number of tables in the page\n",
    "        tables = page_tables.find_tables()\n",
    "        if len(tables)!=0:\n",
    "            table_in_page = 0\n",
    "\n",
    "        # Extracting the tables of the page\n",
    "        for table_num in range(len(tables)):\n",
    "            # Extract the information of the table\n",
    "            table = extract_table(pdf_path, pagenum, table_num)\n",
    "            # Convert the table information in structured string format\n",
    "            table_string = table_converter(table)\n",
    "            # Append the table string into a list\n",
    "            text_from_tables.append(table_string)\n",
    "\n",
    "        # Find all the elements\n",
    "        page_elements = [(element.y1, element) for element in page._objs]\n",
    "        # Sort all the element as they appear in the page \n",
    "        page_elements.sort(key=lambda a: a[0], reverse=True)\n",
    "\n",
    "\n",
    "        # Find the elements that composed a page\n",
    "        for i,component in enumerate(page_elements):\n",
    "            # Extract the element of the page layout\n",
    "            element = component[1]\n",
    "\n",
    "            # Check the elements for tables\n",
    "            if table_in_page == -1:\n",
    "                pass\n",
    "            else:\n",
    "                if is_element_inside_any_table(element, page ,tables):\n",
    "                    table_found = find_table_for_element(element,page ,tables)\n",
    "                    if table_found == table_in_page and table_found != None:    \n",
    "                        page_content.append(text_from_tables[table_in_page])\n",
    "                        page_text.append('table')\n",
    "                        line_format.append('table')\n",
    "                        table_in_page+=1\n",
    "                    # Pass this iteration because the content of this element was extracted from the tables\n",
    "                    continue\n",
    "\n",
    "            if not is_element_inside_any_table(element,page,tables):\n",
    "\n",
    "                # Check if the element is text element\n",
    "                if isinstance(element, LTTextContainer):\n",
    "                    # Use the function to extract the text and format for each text element\n",
    "                    (line_text, format_per_line) = text_extraction(element)\n",
    "                    # Append the text of each line to the page text\n",
    "                    page_text.append(line_text)\n",
    "                    # Append the format for each line containing text\n",
    "                    line_format.append(format_per_line)\n",
    "                    page_content.append(line_text)\n",
    "\n",
    "\n",
    "                # Check the elements for images\n",
    "                if isinstance(element, LTFigure):\n",
    "                    # Crop the image from PDF\n",
    "                    crop_image(element, pageObj)\n",
    "                    # Convert the croped pdf to image\n",
    "                    convert_to_images('cropped_image.pdf')\n",
    "                    # Extract the text from image\n",
    "                    image_text = image_to_text('PDF_image.png')\n",
    "                    text_from_images.append(image_text)\n",
    "                    page_content.append(image_text)\n",
    "                    # Add a placeholder in the text and format lists\n",
    "                    page_text.append('image')\n",
    "                    line_format.append('image')\n",
    "                    # Update the flag for image detection\n",
    "                    image_flag = True\n",
    "    except KeyboardInterrupt:\n",
    "        # Handle KeyboardInterrupt (Ctrl+C)\n",
    "        print(\"KeyboardInterrupt: Stopping execution gracefully.\")\n",
    "        # You can add cleanup operations here if needed.\n",
    "        break  # Exit the loop\n",
    "            \n",
    "\n",
    "\n",
    "    # Create the key of the dictionary\n",
    "    dctkey = 'Page_'+str(pagenum)\n",
    "    # Add the list of list as value of the page key\n",
    "    text_per_page[dctkey]= [page_text, line_format, text_from_images,text_from_tables, page_content]"
   ]
  },
  {
   "cell_type": "code",
   "execution_count": 86,
   "metadata": {},
   "outputs": [],
   "source": [
    "# Close the pdf file object\n",
    "pdfFileObj.close()"
   ]
  },
  {
   "cell_type": "code",
   "execution_count": 87,
   "metadata": {},
   "outputs": [],
   "source": [
    "# Delete the additional files created if image is detected\n",
    "if image_flag:\n",
    "    os.remove('cropped_image.pdf')\n",
    "    os.remove('PDF_image.png')"
   ]
  },
  {
   "cell_type": "code",
   "execution_count": 90,
   "metadata": {},
   "outputs": [
    {
     "name": "stdout",
     "output_type": "stream",
     "text": [
      "\n"
     ]
    }
   ],
   "source": [
    "# Display the content of the page\n",
    "result = ''.join(text_per_page['Page_0'][3])\n",
    "print(result)"
   ]
  },
  {
   "cell_type": "code",
   "execution_count": 91,
   "metadata": {},
   "outputs": [
    {
     "name": "stdout",
     "output_type": "stream",
     "text": [
      "[]\n"
     ]
    }
   ],
   "source": [
    "print(text_from_images)"
   ]
  }
 ],
 "metadata": {
  "kernelspec": {
   "display_name": "NLP_env",
   "language": "python",
   "name": "python3"
  },
  "language_info": {
   "codemirror_mode": {
    "name": "ipython",
    "version": 3
   },
   "file_extension": ".py",
   "mimetype": "text/x-python",
   "name": "python",
   "nbconvert_exporter": "python",
   "pygments_lexer": "ipython3",
   "version": "3.12.1"
  },
  "orig_nbformat": 4,
  "vscode": {
   "interpreter": {
    "hash": "18e1f6b75012c804af28ad83a5c9691a3f91030522fe6d37827743bbd4743ddd"
   }
  }
 },
 "nbformat": 4,
 "nbformat_minor": 2
}
